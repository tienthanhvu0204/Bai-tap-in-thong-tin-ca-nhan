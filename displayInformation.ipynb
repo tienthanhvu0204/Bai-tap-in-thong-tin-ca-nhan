{
 "cells": [
  {
   "cell_type": "code",
   "execution_count": 13,
   "id": "97521bec",
   "metadata": {
    "scrolled": true
   },
   "outputs": [
    {
     "name": "stdout",
     "output_type": "stream",
     "text": [
      "Họ tên:       Vũ Tiến Thành \n",
      "Ngày sinh:    01/03/1990 \n",
      "Địa chỉ:      Huyện Thống Nhất, Tỉnh Đồng Nai \n",
      "Mục đích:     Học lập trình để đổi nghề\n"
     ]
    }
   ],
   "source": [
    "print (\"Họ tên:       Vũ Tiến Thành \\nNgày sinh:    01/03/1990 \\nĐịa chỉ:      Huyện Thống Nhất, Tỉnh Đồng Nai \\n\\\n",
    "Mục đích:     Học lập trình để đổi nghề\")"
   ]
  },
  {
   "cell_type": "code",
   "execution_count": 14,
   "id": "c316fbcd",
   "metadata": {},
   "outputs": [
    {
     "name": "stdout",
     "output_type": "stream",
     "text": [
      "Vũ Tiến Thành\n",
      "Ngày sinh 01/03/1990\n",
      "Địa chỉ Huyện Thống Nhất, Tỉnh Đồng Nai\n"
     ]
    }
   ],
   "source": [
    "print (\"Vũ Tiến Thành\")\n",
    "print (\"Ngày sinh 01/03/1990\")\n",
    "print (\"Địa chỉ Huyện Thống Nhất, Tỉnh Đồng Nai\")"
   ]
  }
 ],
 "metadata": {
  "kernelspec": {
   "display_name": "Python 3 (ipykernel)",
   "language": "python",
   "name": "python3"
  },
  "language_info": {
   "codemirror_mode": {
    "name": "ipython",
    "version": 3
   },
   "file_extension": ".py",
   "mimetype": "text/x-python",
   "name": "python",
   "nbconvert_exporter": "python",
   "pygments_lexer": "ipython3",
   "version": "3.9.7"
  }
 },
 "nbformat": 4,
 "nbformat_minor": 5
}
